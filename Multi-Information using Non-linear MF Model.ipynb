{
 "cells": [
  {
   "cell_type": "code",
   "execution_count": 1,
   "id": "architectural-aircraft",
   "metadata": {},
   "outputs": [],
   "source": [
    "import GPy\n",
    "from matter_multi_fidelity_emu.non_linear_multi_fidelity_models import multi_information_sources as miso\n",
    "from matter_multi_fidelity_emu.non_linear_multi_fidelity_models import non_linear_multi_fidelity_model as nmf\n",
    "\n",
    "\n",
    "from emukit.multi_fidelity.convert_lists_to_array import (\n",
    "    convert_y_list_to_array,\n",
    "    convert_xy_lists_to_arrays,\n",
    "    convert_x_list_to_array,\n",
    ")\n",
    "\n",
    "\n",
    "import numpy as np\n",
    "from matplotlib import pyplot as plt"
   ]
  },
  {
   "cell_type": "code",
   "execution_count": 2,
   "id": "absolute-picking",
   "metadata": {},
   "outputs": [],
   "source": [
    "%matplotlib inline"
   ]
  },
  {
   "cell_type": "code",
   "execution_count": 3,
   "id": "growing-xerox",
   "metadata": {},
   "outputs": [],
   "source": [
    "optimization_restarts=30\n",
    "n_samples=100"
   ]
  },
  {
   "cell_type": "code",
   "execution_count": 4,
   "id": "accessory-surface",
   "metadata": {},
   "outputs": [],
   "source": [
    "# Too hard, not working\n",
    "# def f(x1, x2):\n",
    "#     return (1 - x1)**2 + 100 * (x2 - x1**2)**2\n",
    "\n",
    "# def IS1(x1, x2, u = 1):\n",
    "#     return f(x1, x2) + u * np.random.randn(*(x1.shape))\n",
    "\n",
    "# def IS2(x1, x2, v = 1):\n",
    "#     return f(x1, x2) + v * np.sin(10 * x1 + 5 * x2)\n"
   ]
  },
  {
   "cell_type": "code",
   "execution_count": 10,
   "id": "preceding-wireless",
   "metadata": {},
   "outputs": [],
   "source": [
    "# large slope is to make sure IS is just adding some fluctuations to the true\n",
    "def f(x1, x2):\n",
    "    return 12 * x1 +  20 * x2\n",
    "\n",
    "def IS1(x1, x2, u = 3):\n",
    "    return f(x1, x2) + u * np.random.randn(*(x1.shape))\n",
    "\n",
    "def IS2(x1, x2, v = 3):\n",
    "#     return f(x1, x2) + v * np.sin(10 * x1 + 5 * x2)\n",
    "    return f(x1, x2) + v * np.cos(5 * x1 + 10 * x2)"
   ]
  },
  {
   "cell_type": "code",
   "execution_count": 11,
   "id": "incident-sleeping",
   "metadata": {},
   "outputs": [],
   "source": [
    "n_IS = 2\n",
    "\n",
    "# train IS\n",
    "X = np.pi * np.random.rand(50, 2) - 1\n",
    "IS1_train = IS1(X[:, [0]], X[:, [1]])\n",
    "IS2_train = IS2(X[:, [0]], X[:, [1]])\n",
    "\n",
    "# train true\n",
    "n_true = 10\n",
    "f_train = f(X[:n_true, [0]], X[:n_true, [1]])\n",
    "\n",
    "X_train = [X[:n_true], X, X]\n",
    "Y_train = [f_train, IS1_train, IS2_train]\n",
    "\n",
    "# make GP non linear kernel\n",
    "base_kernel_1 = GPy.kern.RBF\n",
    "kernels = miso.make_non_linear_kernels(\n",
    "    base_kernel_1, n_IS, n_input_dims=2, ARD=True, n_output_dim=1,\n",
    ")  # -1 for the multi-fidelity labels\n",
    "\n",
    "X_init, Y_init = convert_xy_lists_to_arrays(X_train, Y_train)"
   ]
  },
  {
   "cell_type": "code",
   "execution_count": 12,
   "id": "apparent-fitness",
   "metadata": {},
   "outputs": [
    {
     "data": {
      "text/plain": [
       "<matplotlib.legend.Legend at 0x7f95f62eddd0>"
      ]
     },
     "execution_count": 12,
     "metadata": {},
     "output_type": "execute_result"
    },
    {
     "data": {
      "image/png": "[encoded data removed]",
      "text/plain": [
       "<Figure size 432x288 with 1 Axes>"
      ]
     },
     "metadata": {
      "needs_background": "light"
     },
     "output_type": "display_data"
    }
   ],
   "source": [
    "plt.plot(X[:n_true, [0]], f_train, ls=\"\", marker=\"x\", label=\"True\")\n",
    "plt.plot(X[:, [0]], IS1_train, ls=\"\", marker=\".\", label=\"IS1\")\n",
    "plt.plot(X[:, [0]], IS2_train, ls=\"\", marker=\".\", label=\"IS2\")\n",
    "plt.legend()"
   ]
  },
  {
   "cell_type": "code",
   "execution_count": 13,
   "id": "raising-capital",
   "metadata": {},
   "outputs": [
    {
     "name": "stderr",
     "output_type": "stream",
     "text": [
      " /home/jibancat/.pyenv/versions/miniconda3-4.7.12/lib/python3.7/site-packages/GPy/kern/src/stationary.py:137: RuntimeWarning:overflow encountered in square\n",
      " /home/jibancat/.pyenv/versions/miniconda3-4.7.12/lib/python3.7/site-packages/GPy/kern/src/stationary.py:138: RuntimeWarning:invalid value encountered in add\n",
      " /home/jibancat/.pyenv/versions/miniconda3-4.7.12/lib/python3.7/site-packages/GPy/kern/src/stationary.py:166: RuntimeWarning:overflow encountered in true_divide\n",
      " /home/jibancat/.pyenv/versions/miniconda3-4.7.12/lib/python3.7/site-packages/GPy/kern/src/stationary.py:243: RuntimeWarning:invalid value encountered in true_divide\n"
     ]
    }
   ],
   "source": [
    "# model training\n",
    "nargp_miso = miso.NonLinearMultiInformationModel(X_init, Y_init, n_IS=2, kernels=kernels, n_samples=n_samples, optimization_restarts=optimization_restarts)\n",
    "\n",
    "nargp_miso.optimize()\n",
    "\n",
    "X_pred = np.concatenate([X, np.ones((X.shape[0], 1),)], axis=1)\n",
    "\n",
    "mean, variance = nargp_miso.predict(X_pred)\n",
    "\n",
    "f_pred = f(X[:, [0]], X[:, [1]])\n",
    "\n",
    "error = np.abs(1 - mean / f_pred)"
   ]
  },
  {
   "cell_type": "code",
   "execution_count": 14,
   "id": "incorporated-bonus",
   "metadata": {},
   "outputs": [
    {
     "data": {
      "text/plain": [
       "<matplotlib.legend.Legend at 0x7f95f6209ed0>"
      ]
     },
     "execution_count": 14,
     "metadata": {},
     "output_type": "execute_result"
    },
    {
     "data": {
      "image/png": "[encoded data removed]",
      "text/plain": [
       "<Figure size 432x288 with 1 Axes>"
      ]
     },
     "metadata": {
      "needs_background": "light"
     },
     "output_type": "display_data"
    }
   ],
   "source": [
    "plt.semilogy(X[:, 0], np.abs(1 - f_pred / IS1_train), ls=\"\", marker=\"o\", label=\"IS1\")\n",
    "plt.semilogy(X[:, 0], np.abs(1 - f_pred / IS2_train), ls=\"\", marker=\"o\", label=\"IS2\")\n",
    "plt.semilogy(X[:, 0], error, ls=\"\", marker=\"o\", label=\"MIS\")\n",
    "plt.legend()"
   ]
  },
  {
   "cell_type": "markdown",
   "id": "anticipated-annual",
   "metadata": {},
   "source": [
    "## Oridinary NARGP"
   ]
  },
  {
   "cell_type": "code",
   "execution_count": 15,
   "id": "exclusive-excess",
   "metadata": {},
   "outputs": [],
   "source": [
    "X_train = [X, X[:n_true]]\n",
    "Y_train = [IS1_train, f_train]\n",
    "\n",
    "# make GP non linear kernel\n",
    "base_kernel_1 = GPy.kern.RBF\n",
    "kernels = nmf.make_non_linear_kernels(\n",
    "    base_kernel_1, 2, n_input_dims=2, ARD=True, n_output_dim=1,\n",
    ")  # -1 for the multi-fidelity labels\n",
    "\n",
    "X_init, Y_init = convert_xy_lists_to_arrays(X_train, Y_train)"
   ]
  },
  {
   "cell_type": "code",
   "execution_count": 16,
   "id": "pacific-function",
   "metadata": {},
   "outputs": [
    {
     "name": "stderr",
     "output_type": "stream",
     "text": [
      " /home/jibancat/.pyenv/versions/miniconda3-4.7.12/lib/python3.7/site-packages/GPy/kern/src/stationary.py:168: RuntimeWarning:overflow encountered in true_divide\n",
      " /home/jibancat/.pyenv/versions/miniconda3-4.7.12/lib/python3.7/site-packages/GPy/kern/src/rbf.py:52: RuntimeWarning:overflow encountered in square\n",
      " /home/jibancat/.pyenv/versions/miniconda3-4.7.12/lib/python3.7/site-packages/GPy/kern/src/rbf.py:76: RuntimeWarning:invalid value encountered in multiply\n"
     ]
    }
   ],
   "source": [
    "nargp = nmf.NonLinearMultiFidelityModel(X_init, Y_init, n_fidelities=2, kernels=kernels, n_samples=n_samples, optimization_restarts=optimization_restarts)\n",
    "\n",
    "nargp.optimize()\n",
    "\n",
    "mean_mf, variance_mf = nargp.predict(X_pred)\n",
    "\n",
    "error_mf = np.abs(1 - mean_mf / f_pred)"
   ]
  },
  {
   "cell_type": "code",
   "execution_count": 17,
   "id": "diverse-terror",
   "metadata": {},
   "outputs": [
    {
     "data": {
      "text/plain": [
       "<matplotlib.legend.Legend at 0x7f95f6015fd0>"
      ]
     },
     "execution_count": 17,
     "metadata": {},
     "output_type": "execute_result"
    },
    {
     "data": {
      "image/png": "[encoded data removed]",
      "text/plain": [
       "<Figure size 432x288 with 1 Axes>"
      ]
     },
     "metadata": {
      "needs_background": "light"
     },
     "output_type": "display_data"
    }
   ],
   "source": [
    "plt.semilogy(X[:, 0], error, ls=\"\", marker=\"o\", label=\"MIS NARGP\")\n",
    "plt.semilogy(X[:, 0], error_mf, ls=\"\", marker=\"o\", label=\"NARGP\")\n",
    "plt.legend()"
   ]
  },
  {
   "cell_type": "code",
   "execution_count": 18,
   "id": "exact-snapshot",
   "metadata": {},
   "outputs": [
    {
     "data": {
      "text/plain": [
       "0.005534027416026186"
      ]
     },
     "execution_count": 18,
     "metadata": {},
     "output_type": "execute_result"
    }
   ],
   "source": [
    "np.nanmedian(error / error_mf)"
   ]
  },
  {
   "cell_type": "markdown",
   "id": "abroad-kentucky",
   "metadata": {},
   "source": [
    "## Part of the IS is correct, part is more biased"
   ]
  },
  {
   "cell_type": "code",
   "execution_count": 276,
   "id": "searching-greenhouse",
   "metadata": {},
   "outputs": [],
   "source": [
    "def f(x1, x2):\n",
    "    return 2 * x1 +  4 * x2\n",
    "\n",
    "def IS1(x1, x2, u = 1, v = 10):\n",
    "    return (np.heaviside(x1, 0) *  f(x1, x2) + u * np.cos(5 * x1 + 10 * x2)) + (\n",
    "        np.heaviside(-x1, 0) *  f(x1, x2) + v * np.random.randn(*(x1.shape))\n",
    "    )\n",
    "\n",
    "def IS2(x1, x2, u = 1, v = 10):\n",
    "#     return f(x1, x2) + v * np.sin(10 * x1 + 5 * x2)\n",
    "    return (np.heaviside(x1, 0) * f(x1, x2) + u * np.random.randn(*(x1.shape))) + (\n",
    "        np.heaviside(-x1, 0) * f(x1, x2) + v * np.cos(5 * x1 + 10 * x2)\n",
    "    )"
   ]
  },
  {
   "cell_type": "code",
   "execution_count": 277,
   "id": "adjustable-malawi",
   "metadata": {},
   "outputs": [],
   "source": [
    "n_IS = 2\n",
    "\n",
    "# train IS\n",
    "X = np.pi * np.random.rand(50, 2) - 1\n",
    "IS1_train = IS1(X[:, [0]], X[:, [1]])\n",
    "IS2_train = IS2(X[:, [0]], X[:, [1]])\n",
    "\n",
    "# train true\n",
    "n_true = 10\n",
    "f_train = f(X[:n_true, [0]], X[:n_true, [1]])\n",
    "\n",
    "X_train = [X[:n_true], X, X]\n",
    "Y_train = [f_train, IS1_train, IS2_train]\n",
    "\n",
    "# make GP non linear kernel\n",
    "base_kernel_1 = GPy.kern.RBF\n",
    "kernels = miso.make_non_linear_kernels(\n",
    "    base_kernel_1, n_IS, n_input_dims=2, ARD=True, n_output_dim=1,\n",
    ")  # -1 for the multi-fidelity labels\n",
    "\n",
    "X_init, Y_init = convert_xy_lists_to_arrays(X_train, Y_train)"
   ]
  },
  {
   "cell_type": "code",
   "execution_count": 278,
   "id": "original-decrease",
   "metadata": {},
   "outputs": [
    {
     "data": {
      "text/plain": [
       "[<matplotlib.lines.Line2D at 0x7f166ab86cd0>]"
      ]
     },
     "execution_count": 278,
     "metadata": {},
     "output_type": "execute_result"
    },
    {
     "data": {
      "image/png": "[encoded data removed]",
      "text/plain": [
       "<Figure size 432x288 with 1 Axes>"
      ]
     },
     "metadata": {
      "needs_background": "light"
     },
     "output_type": "display_data"
    }
   ],
   "source": [
    "plt.plot(X[:n_true, [0]], f_train, ls=\"\", marker=\"x\")\n",
    "plt.plot(X[:, [0]], IS1_train, ls=\"\", marker=\".\")\n",
    "plt.plot(X[:, [0]], IS2_train, ls=\"\", marker=\".\")"
   ]
  },
  {
   "cell_type": "code",
   "execution_count": 279,
   "id": "prompt-governor",
   "metadata": {},
   "outputs": [
    {
     "name": "stderr",
     "output_type": "stream",
     "text": [
      " /home/jibancat/.pyenv/versions/miniconda3-4.7.12/lib/python3.7/site-packages/GPy/kern/src/stationary.py:168: RuntimeWarning:overflow encountered in true_divide\n",
      " /home/jibancat/.pyenv/versions/miniconda3-4.7.12/lib/python3.7/site-packages/GPy/kern/src/rbf.py:52: RuntimeWarning:overflow encountered in square\n",
      " /home/jibancat/.pyenv/versions/miniconda3-4.7.12/lib/python3.7/site-packages/GPy/kern/src/rbf.py:76: RuntimeWarning:invalid value encountered in multiply\n",
      " /home/jibancat/.pyenv/versions/miniconda3-4.7.12/lib/python3.7/site-packages/GPy/kern/src/stationary.py:166: RuntimeWarning:overflow encountered in true_divide\n",
      " /home/jibancat/.pyenv/versions/miniconda3-4.7.12/lib/python3.7/site-packages/GPy/kern/src/stationary.py:138: RuntimeWarning:invalid value encountered in add\n",
      " /home/jibancat/.pyenv/versions/miniconda3-4.7.12/lib/python3.7/site-packages/GPy/kern/src/stationary.py:243: RuntimeWarning:invalid value encountered in true_divide\n"
     ]
    }
   ],
   "source": [
    "nargp_miso = miso.NonLinearMultiInformationModel(X_init, Y_init, n_IS=2, kernels=kernels, n_samples=n_samples, optimization_restarts=optimization_restarts)\n",
    "\n",
    "nargp_miso.optimize()\n",
    "\n",
    "X_pred = np.concatenate([X, np.ones((X.shape[0], 1),)], axis=1)\n",
    "\n",
    "mean, variance = nargp_miso.predict(X_pred)\n",
    "\n",
    "f_pred = f(X[:, [0]], X[:, [1]])\n",
    "\n",
    "error = np.abs(1 - mean / f_pred)"
   ]
  },
  {
   "cell_type": "code",
   "execution_count": 280,
   "id": "biological-checkout",
   "metadata": {},
   "outputs": [
    {
     "data": {
      "text/plain": [
       "<matplotlib.legend.Legend at 0x7f166aadf290>"
      ]
     },
     "execution_count": 280,
     "metadata": {},
     "output_type": "execute_result"
    },
    {
     "data": {
      "image/png": "[encoded data removed]",
      "text/plain": [
       "<Figure size 432x288 with 1 Axes>"
      ]
     },
     "metadata": {
      "needs_background": "light"
     },
     "output_type": "display_data"
    }
   ],
   "source": [
    "plt.semilogy(X[:, 0], np.abs(1 - f_pred / IS1_train), ls=\"\", marker=\"o\", label=\"IS1\")\n",
    "plt.semilogy(X[:, 0], np.abs(1 - f_pred / IS2_train), ls=\"\", marker=\"o\", label=\"IS2\")\n",
    "plt.semilogy(X[:, 0], error, ls=\"\", marker=\"o\", label=\"MIS\")\n",
    "plt.legend()"
   ]
  },
  {
   "cell_type": "markdown",
   "id": "professional-hunter",
   "metadata": {},
   "source": [
    "Ordinary NARGP"
   ]
  },
  {
   "cell_type": "code",
   "execution_count": 281,
   "id": "specialized-authentication",
   "metadata": {},
   "outputs": [],
   "source": [
    "X_train = [X, X[:n_true]]\n",
    "Y_train = [IS1_train, f_train]\n",
    "\n",
    "# make GP non linear kernel\n",
    "base_kernel_1 = GPy.kern.RBF\n",
    "kernels = nmf.make_non_linear_kernels(\n",
    "    base_kernel_1, 2, n_input_dims=2, ARD=True, n_output_dim=1,\n",
    ")  # -1 for the multi-fidelity labels\n",
    "\n",
    "X_init, Y_init = convert_xy_lists_to_arrays(X_train, Y_train)"
   ]
  },
  {
   "cell_type": "code",
   "execution_count": 282,
   "id": "smoking-singer",
   "metadata": {},
   "outputs": [
    {
     "name": "stderr",
     "output_type": "stream",
     "text": [
      " /home/jibancat/.pyenv/versions/miniconda3-4.7.12/lib/python3.7/site-packages/GPy/kern/src/stationary.py:168: RuntimeWarning:overflow encountered in true_divide\n",
      " /home/jibancat/.pyenv/versions/miniconda3-4.7.12/lib/python3.7/site-packages/GPy/kern/src/rbf.py:52: RuntimeWarning:overflow encountered in square\n",
      " /home/jibancat/.pyenv/versions/miniconda3-4.7.12/lib/python3.7/site-packages/GPy/kern/src/rbf.py:76: RuntimeWarning:invalid value encountered in multiply\n"
     ]
    },
    {
     "name": "stdout",
     "output_type": "stream",
     "text": [
      "Warning - optimization restart 13/30 failed\n",
      "Warning - optimization restart 19/30 failed\n",
      "Warning - optimization restart 21/30 failed\n",
      "Warning - optimization restart 26/30 failed\n",
      "Warning - optimization restart 29/30 failed\n"
     ]
    }
   ],
   "source": [
    "nargp = nmf.NonLinearMultiFidelityModel(X_init, Y_init, n_fidelities=2, kernels=kernels, n_samples=n_samples, optimization_restarts=optimization_restarts)\n",
    "\n",
    "nargp.optimize()\n",
    "\n",
    "mean_mf, variance_mf = nargp.predict(X_pred)\n",
    "\n",
    "error_mf = np.abs(1 - mean_mf / f_pred)"
   ]
  },
  {
   "cell_type": "code",
   "execution_count": 283,
   "id": "sixth-emergency",
   "metadata": {},
   "outputs": [
    {
     "data": {
      "text/plain": [
       "<matplotlib.legend.Legend at 0x7f166a995c90>"
      ]
     },
     "execution_count": 283,
     "metadata": {},
     "output_type": "execute_result"
    },
    {
     "data": {
      "image/png": "[encoded data removed]",
      "text/plain": [
       "<Figure size 432x288 with 1 Axes>"
      ]
     },
     "metadata": {
      "needs_background": "light"
     },
     "output_type": "display_data"
    }
   ],
   "source": [
    "plt.semilogy(X[:, 0], error, ls=\"\", marker=\"o\", label=\"MIS NARGP\")\n",
    "plt.semilogy(X[:, 0], error_mf, ls=\"\", marker=\"o\", label=\"NARGP\")\n",
    "plt.legend()"
   ]
  },
  {
   "cell_type": "code",
   "execution_count": 284,
   "id": "concerned-oxford",
   "metadata": {},
   "outputs": [
    {
     "data": {
      "text/plain": [
       "9.073657824186942"
      ]
     },
     "execution_count": 284,
     "metadata": {},
     "output_type": "execute_result"
    }
   ],
   "source": [
    "np.nanmedian(error / error_mf)"
   ]
  },
  {
   "cell_type": "markdown",
   "id": "congressional-services",
   "metadata": {},
   "source": [
    "## More loops to test the statability"
   ]
  },
  {
   "cell_type": "code",
   "execution_count": 4,
   "id": "chinese-diagram",
   "metadata": {},
   "outputs": [],
   "source": [
    "from tests.test_multi_information_toys import train2errors"
   ]
  },
  {
   "cell_type": "code",
   "execution_count": 5,
   "id": "inappropriate-scanning",
   "metadata": {
    "scrolled": true
   },
   "outputs": [
    {
     "name": "stderr",
     "output_type": "stream",
     "text": [
      " /home/jibancat/.pyenv/versions/miniconda3-4.7.12/lib/python3.7/site-packages/GPy/kern/src/stationary.py:243: RuntimeWarning:invalid value encountered in true_divide\n",
      " /home/jibancat/.pyenv/versions/miniconda3-4.7.12/lib/python3.7/site-packages/GPy/kern/src/stationary.py:166: RuntimeWarning:overflow encountered in true_divide\n",
      " /home/jibancat/.pyenv/versions/miniconda3-4.7.12/lib/python3.7/site-packages/GPy/kern/src/stationary.py:137: RuntimeWarning:overflow encountered in square\n",
      " /home/jibancat/.pyenv/versions/miniconda3-4.7.12/lib/python3.7/site-packages/GPy/kern/src/stationary.py:138: RuntimeWarning:invalid value encountered in add\n",
      " /home/jibancat/.pyenv/versions/miniconda3-4.7.12/lib/python3.7/site-packages/GPy/kern/src/stationary.py:168: RuntimeWarning:overflow encountered in true_divide\n",
      " /home/jibancat/.pyenv/versions/miniconda3-4.7.12/lib/python3.7/site-packages/GPy/kern/src/rbf.py:52: RuntimeWarning:overflow encountered in square\n",
      " /home/jibancat/.pyenv/versions/miniconda3-4.7.12/lib/python3.7/site-packages/GPy/kern/src/rbf.py:76: RuntimeWarning:invalid value encountered in multiply\n"
     ]
    },
    {
     "name": "stdout",
     "output_type": "stream",
     "text": [
      "Warning - optimization restart 15/30 failed\n",
      "Warning - optimization restart 3/30 failed\n",
      "Warning - optimization restart 29/30 failed\n",
      "Warning - optimization restart 3/30 failed\n",
      "Warning - optimization restart 2/30 failed\n",
      "Warning - optimization restart 16/30 failed\n",
      "Warning - optimization restart 18/30 failed\n"
     ]
    },
    {
     "name": "stderr",
     "output_type": "stream",
     "text": [
      " /home/jibancat/.pyenv/versions/miniconda3-4.7.12/lib/python3.7/site-packages/GPy/kern/src/stationary.py:138: RuntimeWarning:overflow encountered in multiply\n",
      " /home/jibancat/.pyenv/versions/miniconda3-4.7.12/lib/python3.7/site-packages/GPy/kern/src/stationary.py:138: RuntimeWarning:overflow encountered in add\n"
     ]
    },
    {
     "name": "stdout",
     "output_type": "stream",
     "text": [
      "Warning - optimization restart 14/30 failed\n",
      "Warning - optimization restart 16/30 failed\n",
      "Warning - optimization restart 7/30 failed\n",
      "Warning - optimization restart 15/30 failed\n",
      "Warning - optimization restart 9/30 failed\n",
      "Warning - optimization restart 5/30 failed\n",
      "Warning - optimization restart 16/30 failed\n",
      "Warning - optimization restart 30/30 failed\n",
      "Warning - optimization restart 14/30 failed\n",
      "Warning - optimization restart 3/30 failed\n",
      "Warning - optimization restart 21/30 failed\n",
      "Warning - optimization restart 7/30 failed\n",
      "Warning - optimization restart 12/30 failed\n",
      "Warning - optimization restart 5/30 failed\n",
      "Warning - optimization restart 26/30 failed\n",
      "Warning - optimization restart 30/30 failed\n",
      "Warning - optimization restart 28/30 failed\n",
      "Warning - optimization restart 1/30 failed\n",
      "Warning - optimization restart 9/30 failed\n",
      "Warning - optimization restart 17/30 failed\n",
      "Warning - optimization restart 23/30 failed\n",
      "Warning - optimization restart 11/30 failed\n",
      "Warning - optimization restart 29/30 failed\n",
      "Warning - optimization restart 1/30 failed\n",
      "Warning - optimization restart 9/30 failed\n",
      "Warning - optimization restart 11/30 failed\n",
      "Warning - optimization restart 13/30 failed\n",
      "Warning - optimization restart 30/30 failed\n",
      "Warning - optimization restart 21/30 failed\n",
      "Warning - optimization restart 17/30 failed\n",
      "Warning - optimization restart 27/30 failed\n",
      "Warning - optimization restart 3/30 failed\n",
      "Warning - optimization restart 15/30 failed\n",
      "Warning - optimization restart 18/30 failed\n",
      "Warning - optimization restart 13/30 failed\n",
      "Warning - optimization restart 24/30 failed\n",
      "Warning - optimization restart 30/30 failed\n",
      "Warning - optimization restart 7/30 failed\n",
      "Warning - optimization restart 14/30 failed\n",
      "Warning - optimization restart 3/30 failed\n",
      "Warning - optimization restart 7/30 failed\n",
      "Warning - optimization restart 17/30 failed\n",
      "Warning - optimization restart 3/30 failed\n",
      "Warning - optimization restart 16/30 failed\n",
      "Warning - optimization restart 21/30 failed\n",
      "Warning - optimization restart 1/30 failed\n",
      "Warning - optimization restart 19/30 failed\n",
      "Warning - optimization restart 3/30 failed\n",
      "Warning - optimization restart 21/30 failed\n",
      "Warning - optimization restart 16/30 failed\n",
      "Warning - optimization restart 16/30 failed\n",
      "Warning - optimization restart 17/30 failed\n",
      "Warning - optimization restart 20/30 failed\n",
      "Warning - optimization restart 26/30 failed\n",
      "Warning - optimization restart 22/30 failed\n",
      "Warning - optimization restart 18/30 failed\n",
      "Warning - optimization restart 13/30 failed\n",
      "Warning - optimization restart 26/30 failed\n",
      "Warning - optimization restart 29/30 failed\n",
      "Warning - optimization restart 2/30 failed\n",
      "Warning - optimization restart 3/30 failed\n",
      "Warning - optimization restart 2/30 failed\n",
      "Warning - optimization restart 16/30 failed\n",
      "Warning - optimization restart 19/30 failed\n",
      "Warning - optimization restart 26/30 failed\n",
      "Warning - optimization restart 26/30 failed\n",
      "Warning - optimization restart 13/30 failed\n",
      "Warning - optimization restart 17/30 failed\n",
      "Warning - optimization restart 7/30 failed\n",
      "Warning - optimization restart 9/30 failed\n",
      "Warning - optimization restart 11/30 failed\n",
      "Warning - optimization restart 16/30 failed\n",
      "Warning - optimization restart 18/30 failed\n",
      "Warning - optimization restart 8/30 failed\n",
      "Warning - optimization restart 29/30 failed\n",
      "Warning - optimization restart 11/30 failed\n",
      "Warning - optimization restart 23/30 failed\n",
      "Warning - optimization restart 30/30 failed\n",
      "Warning - optimization restart 4/30 failed\n",
      "Warning - optimization restart 8/30 failed\n",
      "Warning - optimization restart 4/30 failed\n",
      "Warning - optimization restart 6/30 failed\n",
      "Warning - optimization restart 4/30 failed\n",
      "Warning - optimization restart 22/30 failed\n",
      "Warning - optimization restart 5/30 failed\n",
      "Warning - optimization restart 30/30 failed\n",
      "Warning - optimization restart 8/30 failed\n",
      "Warning - optimization restart 9/30 failed\n",
      "Warning - optimization restart 23/30 failed\n",
      "Warning - optimization restart 24/30 failed\n",
      "Warning - optimization restart 26/30 failed\n",
      "Warning - optimization restart 15/30 failed\n",
      "Warning - optimization restart 20/30 failed\n",
      "Warning - optimization restart 26/30 failed\n",
      "Warning - optimization restart 15/30 failed\n",
      "Warning - optimization restart 24/30 failed\n",
      "Warning - optimization restart 17/30 failed\n",
      "Warning - optimization restart 24/30 failed\n",
      "Warning - optimization restart 18/30 failed\n",
      "Warning - optimization restart 3/30 failed\n",
      "Warning - optimization restart 26/30 failed\n",
      "Warning - optimization restart 11/30 failed\n",
      "Warning - optimization restart 30/30 failed\n",
      "Warning - optimization restart 14/30 failed\n",
      "Warning - optimization restart 22/30 failed\n",
      "Warning - optimization restart 7/30 failed\n",
      "Warning - optimization restart 27/30 failed\n",
      "Warning - optimization restart 6/30 failed\n",
      "Warning - optimization restart 15/30 failed\n",
      "Warning - optimization restart 23/30 failed\n",
      "Warning - optimization restart 25/30 failed\n",
      "Warning - optimization restart 6/30 failed\n",
      "Warning - optimization restart 28/30 failed\n",
      "Warning - optimization restart 23/30 failed\n",
      "Warning - optimization restart 22/30 failed\n",
      "Warning - optimization restart 3/30 failed\n",
      "Warning - optimization restart 7/30 failed\n",
      "Warning - optimization restart 17/30 failed\n",
      "Warning - optimization restart 2/30 failed\n",
      "Warning - optimization restart 4/30 failed\n",
      "Warning - optimization restart 17/30 failed\n",
      "Warning - optimization restart 21/30 failed\n",
      "Warning - optimization restart 23/30 failed\n",
      "Warning - optimization restart 4/30 failed\n",
      "Warning - optimization restart 18/30 failed\n",
      "Warning - optimization restart 5/30 failed\n",
      "Warning - optimization restart 2/30 failed\n",
      "Warning - optimization restart 18/30 failed\n",
      "Warning - optimization restart 6/30 failed\n",
      "Warning - optimization restart 17/30 failed\n",
      "Warning - optimization restart 21/30 failed\n",
      "Warning - optimization restart 23/30 failed\n",
      "Warning - optimization restart 19/30 failed\n",
      "Warning - optimization restart 26/30 failed\n",
      "Warning - optimization restart 18/30 failed\n",
      "Warning - optimization restart 27/30 failed\n",
      "Warning - optimization restart 2/30 failed\n",
      "Warning - optimization restart 3/30 failed\n",
      "Warning - optimization restart 16/30 failed\n",
      "Warning - optimization restart 5/30 failed\n",
      "Warning - optimization restart 5/30 failed\n",
      "Warning - optimization restart 10/30 failed\n",
      "Warning - optimization restart 16/30 failed\n",
      "Warning - optimization restart 9/30 failed\n",
      "Warning - optimization restart 18/30 failed\n",
      "Warning - optimization restart 5/30 failed\n",
      "Warning - optimization restart 19/30 failed\n",
      "Warning - optimization restart 4/30 failed\n",
      "Warning - optimization restart 29/30 failed\n",
      "Warning - optimization restart 15/30 failed\n",
      "Warning - optimization restart 2/30 failed\n",
      "Warning - optimization restart 19/30 failed\n",
      "Warning - optimization restart 25/30 failed\n",
      "Warning - optimization restart 6/30 failed\n",
      "Warning - optimization restart 8/30 failed\n",
      "Warning - optimization restart 9/30 failed\n",
      "Warning - optimization restart 13/30 failed\n",
      "Warning - optimization restart 29/30 failed\n",
      "Warning - optimization restart 10/30 failed\n",
      "Warning - optimization restart 27/30 failed\n"
     ]
    }
   ],
   "source": [
    "all_miso_errors = []\n",
    "all_nargp_errors = []\n",
    "all_error_ratios = []\n",
    "\n",
    "for i in range(100):\n",
    "    error, error_mf, error_ratio = train2errors(\n",
    "    optimization_restarts=30,\n",
    "    n_samples=100,\n",
    "    u = 2,\n",
    "    v = 1,\n",
    "    n_train = 50,\n",
    "    n_true = 10,\n",
    "    )\n",
    "    \n",
    "    all_miso_errors.append(error)\n",
    "    all_nargp_errors.append(error_mf)\n",
    "    all_error_ratios.append(error_ratio)"
   ]
  },
  {
   "cell_type": "code",
   "execution_count": 6,
   "id": "third-bidding",
   "metadata": {},
   "outputs": [
    {
     "data": {
      "text/plain": [
       "62"
      ]
     },
     "execution_count": 6,
     "metadata": {},
     "output_type": "execute_result"
    }
   ],
   "source": [
    "np.sum(np.array(all_error_ratios) < 1)"
   ]
  },
  {
   "cell_type": "code",
   "execution_count": 7,
   "id": "bibliographic-spare",
   "metadata": {},
   "outputs": [
    {
     "data": {
      "text/plain": [
       "0.7263638611715698"
      ]
     },
     "execution_count": 7,
     "metadata": {},
     "output_type": "execute_result"
    }
   ],
   "source": [
    "np.median(all_error_ratios)"
   ]
  },
  {
   "cell_type": "code",
   "execution_count": null,
   "id": "chicken-martial",
   "metadata": {},
   "outputs": [],
   "source": []
  }
 ],
 "metadata": {
  "kernelspec": {
   "display_name": "Python 3",
   "language": "python",
   "name": "python3"
  },
  "language_info": {
   "codemirror_mode": {
    "name": "ipython",
    "version": 3
   },
   "file_extension": ".py",
   "mimetype": "text/x-python",
   "name": "python",
   "nbconvert_exporter": "python",
   "pygments_lexer": "ipython3",
   "version": "3.7.4"
  }
 },
 "nbformat": 4,
 "nbformat_minor": 5
}
